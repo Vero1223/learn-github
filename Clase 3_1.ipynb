{
 "cells": [
  {
   "cell_type": "code",
   "execution_count": 3,
   "metadata": {},
   "outputs": [
    {
     "name": "stdout",
     "output_type": "stream",
     "text": [
      "Tiempo con NumPy vectorizado: 0.00019288063049316406 segundos\n"
     ]
    }
   ],
   "source": [
    "start = time.time()\n",
    "c = a + b  # Esta operación se realiza en paralelo internamente\n",
    "end = time.time()\n",
    "\n",
    "print(\"Tiempo con NumPy vectorizado:\", end - start, \"segundos\")"
   ]
  },
  {
   "cell_type": "code",
   "execution_count": 4,
   "metadata": {},
   "outputs": [
    {
     "name": "stdout",
     "output_type": "stream",
     "text": [
      "DataFrame original:\n",
      "     ip_origen  puerto protocolo  intentos_acceso   timestamp  exito\n",
      "0  192.168.1.1    80.0      HTTP              5.0  2023-01-01  False\n",
      "1     10.0.0.1   443.0     https             10.0  2023-01-01   True\n",
      "2         None    22.0       SSH              NaN  2023-01-02  False\n",
      "3   172.16.0.1     NaN      http              7.0  2023-01-03   True\n",
      "4  192.168.1.1    80.0      None              5.0  2023-01-01  False\n",
      "\n",
      "\n",
      "Información básica del DataFrame:\n",
      "<class 'pandas.core.frame.DataFrame'>\n",
      "RangeIndex: 5 entries, 0 to 4\n",
      "Data columns (total 6 columns):\n",
      " #   Column           Non-Null Count  Dtype  \n",
      "---  ------           --------------  -----  \n",
      " 0   ip_origen        4 non-null      object \n",
      " 1   puerto           4 non-null      float64\n",
      " 2   protocolo        4 non-null      object \n",
      " 3   intentos_acceso  4 non-null      float64\n",
      " 4   timestamp        5 non-null      object \n",
      " 5   exito            5 non-null      bool   \n",
      "dtypes: bool(1), float64(2), object(3)\n",
      "memory usage: 337.0+ bytes\n",
      "None\n",
      "\n",
      "\n"
     ]
    }
   ],
   "source": [
    "import pandas as pd\n",
    "import numpy as np\n",
    "import matplotlib.pyplot as plt\n",
    "\n",
    "# Creamos un conjunto de datos simple con algunos problemas comunes\n",
    "data = {\n",
    "    'ip_origen': ['192.168.1.1', '10.0.0.1', None, '172.16.0.1', '192.168.1.1'],\n",
    "    'puerto': [80, 443, 22, np.nan, 80],\n",
    "    'protocolo': ['HTTP', 'https', 'SSH', 'http', None],\n",
    "    'intentos_acceso': [5, 10, None, 7, 5],\n",
    "    'timestamp': ['2023-01-01', '2023-01-01', '2023-01-02', '2023-01-03', '2023-01-01'],\n",
    "    'exito': [False, True, False, True, False]\n",
    "}\n",
    "\n",
    "# Creamos un DataFrame de pandas\n",
    "df = pd.DataFrame(data)\n",
    "\n",
    "print(\"DataFrame original:\")\n",
    "print(df)\n",
    "print(\"\\n\")\n",
    "\n",
    "# 1. Vemos información básica del DataFrame\n",
    "print(\"Información básica del DataFrame:\")\n",
    "print(df.info())\n",
    "print(\"\\n\")"
   ]
  },
  {
   "cell_type": "code",
   "execution_count": 5,
   "metadata": {},
   "outputs": [
    {
     "name": "stdout",
     "output_type": "stream",
     "text": [
      "Estadísticas descriptivas:\n",
      "           puerto  intentos_acceso\n",
      "count    4.000000         4.000000\n",
      "mean   156.250000         6.750000\n",
      "std    193.112014         2.362908\n",
      "min     22.000000         5.000000\n",
      "25%     65.500000         5.000000\n",
      "50%     80.000000         6.000000\n",
      "75%    170.750000         7.750000\n",
      "max    443.000000        10.000000\n",
      "\n",
      "\n"
     ]
    }
   ],
   "source": [
    "# 2. Vemos estadísticas descriptivas\n",
    "print(\"Estadísticas descriptivas:\")\n",
    "print(df.describe())\n",
    "print(\"\\n\")"
   ]
  },
  {
   "cell_type": "code",
   "execution_count": 6,
   "metadata": {},
   "outputs": [
    {
     "name": "stdout",
     "output_type": "stream",
     "text": [
      "Valores nulos por columna:\n",
      "ip_origen          1\n",
      "puerto             1\n",
      "protocolo          1\n",
      "intentos_acceso    1\n",
      "timestamp          0\n",
      "exito              0\n",
      "dtype: int64\n",
      "\n",
      "\n"
     ]
    }
   ],
   "source": [
    "# 3. Verificamos valores nulos\n",
    "print(\"Valores nulos por columna:\")\n",
    "print(df.isnull().sum())\n",
    "print(\"\\n\")"
   ]
  },
  {
   "cell_type": "code",
   "execution_count": 7,
   "metadata": {},
   "outputs": [
    {
     "name": "stdout",
     "output_type": "stream",
     "text": [
      "DataFrame sin registros duplicados:\n",
      "     ip_origen  puerto protocolo  intentos_acceso   timestamp  exito\n",
      "0  192.168.1.1    80.0      HTTP              5.0  2023-01-01  False\n",
      "1     10.0.0.1   443.0     https             10.0  2023-01-01   True\n",
      "2         None    22.0       SSH              NaN  2023-01-02  False\n",
      "3   172.16.0.1     NaN      http              7.0  2023-01-03   True\n",
      "4  192.168.1.1    80.0      None              5.0  2023-01-01  False\n",
      "\n",
      "\n"
     ]
    }
   ],
   "source": [
    "# 4. Eliminamos registros duplicados\n",
    "df_sin_duplicados = df.drop_duplicates()\n",
    "print(\"DataFrame sin registros duplicados:\")\n",
    "print(df_sin_duplicados)\n",
    "print(\"\\n\")"
   ]
  },
  {
   "cell_type": "code",
   "execution_count": 9,
   "metadata": {},
   "outputs": [],
   "source": [
    "# 5. Manejamos valores nulos\n",
    "## 5.1 Para valores categóricos, rellenamos con 'DESCONOCIDO'\n",
    "df['ip_origen'].fillna('DESCONOCIDO', inplace=True)\n",
    "df['protocolo'].fillna('DESCONOCIDO', inplace=True)"
   ]
  },
  {
   "cell_type": "code",
   "execution_count": 10,
   "metadata": {},
   "outputs": [
    {
     "name": "stdout",
     "output_type": "stream",
     "text": [
      "     ip_origen  puerto    protocolo  intentos_acceso   timestamp  exito\n",
      "0  192.168.1.1    80.0         HTTP              5.0  2023-01-01  False\n",
      "1     10.0.0.1   443.0        https             10.0  2023-01-01   True\n",
      "2  DESCONOCIDO    22.0          SSH              NaN  2023-01-02  False\n",
      "3   172.16.0.1     NaN         http              7.0  2023-01-03   True\n",
      "4  192.168.1.1    80.0  DESCONOCIDO              5.0  2023-01-01  False\n"
     ]
    }
   ],
   "source": [
    "print(df)\n"
   ]
  },
  {
   "cell_type": "code",
   "execution_count": 11,
   "metadata": {},
   "outputs": [
    {
     "name": "stderr",
     "output_type": "stream",
     "text": [
      "/tmp/ipykernel_7804/992182245.py:2: FutureWarning: A value is trying to be set on a copy of a DataFrame or Series through chained assignment using an inplace method.\n",
      "The behavior will change in pandas 3.0. This inplace method will never work because the intermediate object on which we are setting values always behaves as a copy.\n",
      "\n",
      "For example, when doing 'df[col].method(value, inplace=True)', try using 'df.method({col: value}, inplace=True)' or df[col] = df[col].method(value) instead, to perform the operation inplace on the original object.\n",
      "\n",
      "\n",
      "  df['puerto'].fillna(df['puerto'].mean(), inplace=True)\n",
      "/tmp/ipykernel_7804/992182245.py:3: FutureWarning: A value is trying to be set on a copy of a DataFrame or Series through chained assignment using an inplace method.\n",
      "The behavior will change in pandas 3.0. This inplace method will never work because the intermediate object on which we are setting values always behaves as a copy.\n",
      "\n",
      "For example, when doing 'df[col].method(value, inplace=True)', try using 'df.method({col: value}, inplace=True)' or df[col] = df[col].method(value) instead, to perform the operation inplace on the original object.\n",
      "\n",
      "\n",
      "  df['intentos_acceso'].fillna(df['intentos_acceso'].mean(), inplace=True)\n"
     ]
    }
   ],
   "source": [
    "# 5.2 Para valores numéricos, rellenamos con la media\n",
    "df['puerto'].fillna(df['puerto'].mean(), inplace=True)\n",
    "df['intentos_acceso'].fillna(df['intentos_acceso'].mean(), inplace=True)"
   ]
  },
  {
   "cell_type": "code",
   "execution_count": 12,
   "metadata": {},
   "outputs": [
    {
     "name": "stdout",
     "output_type": "stream",
     "text": [
      "     ip_origen  puerto    protocolo  intentos_acceso   timestamp  exito\n",
      "0  192.168.1.1   80.00         HTTP             5.00  2023-01-01  False\n",
      "1     10.0.0.1  443.00        https            10.00  2023-01-01   True\n",
      "2  DESCONOCIDO   22.00          SSH             6.75  2023-01-02  False\n",
      "3   172.16.0.1  156.25         http             7.00  2023-01-03   True\n",
      "4  192.168.1.1   80.00  DESCONOCIDO             5.00  2023-01-01  False\n"
     ]
    }
   ],
   "source": [
    "print (df)"
   ]
  },
  {
   "cell_type": "code",
   "execution_count": 13,
   "metadata": {},
   "outputs": [
    {
     "name": "stdout",
     "output_type": "stream",
     "text": [
      "DataFrame después de estandarizar protocolos:\n",
      "     ip_origen  puerto    protocolo  intentos_acceso   timestamp  exito\n",
      "0  192.168.1.1   80.00         HTTP             5.00  2023-01-01  False\n",
      "1     10.0.0.1  443.00        HTTPS            10.00  2023-01-01   True\n",
      "2  DESCONOCIDO   22.00          SSH             6.75  2023-01-02  False\n",
      "3   172.16.0.1  156.25         HTTP             7.00  2023-01-03   True\n",
      "4  192.168.1.1   80.00  DESCONOCIDO             5.00  2023-01-01  False\n",
      "\n",
      "\n"
     ]
    }
   ],
   "source": [
    "# 6. Estandarizamos valores (convertimos todos los protocolos a mayúsculas)\n",
    "df['protocolo'] = df['protocolo'].str.upper()\n",
    "\n",
    "print(\"DataFrame después de estandarizar protocolos:\")\n",
    "print(df)\n",
    "print(\"\\n\")"
   ]
  },
  {
   "cell_type": "code",
   "execution_count": 14,
   "metadata": {},
   "outputs": [
    {
     "name": "stdout",
     "output_type": "stream",
     "text": [
      "     ip_origen  puerto    protocolo  intentos_acceso   timestamp  exito  \\\n",
      "0  192.168.1.1   80.00         HTTP             5.00  2023-01-01  False   \n",
      "1     10.0.0.1  443.00        HTTPS            10.00  2023-01-01   True   \n",
      "2  DESCONOCIDO   22.00          SSH             6.75  2023-01-02  False   \n",
      "3   172.16.0.1  156.25         HTTP             7.00  2023-01-03   True   \n",
      "4  192.168.1.1   80.00  DESCONOCIDO             5.00  2023-01-01  False   \n",
      "\n",
      "   es_puerto_comun  \n",
      "0             True  \n",
      "1             True  \n",
      "2             True  \n",
      "3            False  \n",
      "4             True  \n"
     ]
    }
   ],
   "source": [
    "# 7. Creamos una nueva columna basada en cálculos\n",
    "df['es_puerto_comun'] = df['puerto'].apply(lambda x: x in [80, 443, 22, 21, 25])\n",
    "print (df)"
   ]
  },
  {
   "cell_type": "code",
   "execution_count": 2,
   "metadata": {},
   "outputs": [
    {
     "name": "stdout",
     "output_type": "stream",
     "text": [
      "Tiempo con bucle for: 0.0032110214233398438 segundos\n"
     ]
    }
   ],
   "source": [
    "import numpy as np\n",
    "import time\n",
    "\n",
    "# Creamos dos arrays grandes\n",
    "a = np.random.rand(10000)\n",
    "b = np.random.rand(10000)\n",
    "c = np.empty(10000)\n",
    "\n",
    "start = time.time()\n",
    "for i in range(10000):\n",
    "    c[i] = a[i] + b[i]\n",
    "end = time.time()\n",
    "\n",
    "print(\"Tiempo con bucle for:\", end - start, \"segundos\")"
   ]
  }
 ],
 "metadata": {
  "kernelspec": {
   "display_name": "Python 3",
   "language": "python",
   "name": "python3"
  },
  "language_info": {
   "codemirror_mode": {
    "name": "ipython",
    "version": 3
   },
   "file_extension": ".py",
   "mimetype": "text/x-python",
   "name": "python",
   "nbconvert_exporter": "python",
   "pygments_lexer": "ipython3",
   "version": "3.12.1"
  }
 },
 "nbformat": 4,
 "nbformat_minor": 2
}
