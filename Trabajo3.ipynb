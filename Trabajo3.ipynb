{
 "cells": [
  {
   "cell_type": "code",
   "execution_count": 1,
   "metadata": {},
   "outputs": [
    {
     "name": "stdout",
     "output_type": "stream",
     "text": [
      "1. Explorando el DataFrame:\n",
      "            timestamp    ip_origen ip_destino  puerto protocolo  \\\n",
      "0 2023-01-01 00:00:00  192.168.1.1   10.0.0.1      80      HTTP   \n",
      "1 2023-01-01 01:00:00  192.168.1.2   10.0.0.2     443     HTTPS   \n",
      "2 2023-01-01 02:00:00  192.168.1.3   10.0.0.3      22       SSH   \n",
      "3 2023-01-01 03:00:00  192.168.1.4   10.0.0.1    3389       RDP   \n",
      "4 2023-01-01 04:00:00  192.168.1.5   10.0.0.2    8080      HTTP   \n",
      "\n",
      "   bytes_enviados  exito_conexion  \n",
      "0            1101            True  \n",
      "1            6054            True  \n",
      "2            9155           False  \n",
      "3            8210            True  \n",
      "4            3060            True  \n",
      "\n",
      "Información del DataFrame:\n",
      "<class 'pandas.core.frame.DataFrame'>\n",
      "RangeIndex: 10 entries, 0 to 9\n",
      "Data columns (total 7 columns):\n",
      " #   Column          Non-Null Count  Dtype         \n",
      "---  ------          --------------  -----         \n",
      " 0   timestamp       10 non-null     datetime64[ns]\n",
      " 1   ip_origen       10 non-null     object        \n",
      " 2   ip_destino      10 non-null     object        \n",
      " 3   puerto          10 non-null     int64         \n",
      " 4   protocolo       10 non-null     object        \n",
      " 5   bytes_enviados  10 non-null     int64         \n",
      " 6   exito_conexion  10 non-null     bool          \n",
      "dtypes: bool(1), datetime64[ns](1), int64(2), object(3)\n",
      "memory usage: 622.0+ bytes\n",
      "None\n",
      "\n",
      "Estadísticas descriptivas:\n",
      "                 timestamp       puerto  bytes_enviados\n",
      "count                   10    10.000000       10.000000\n",
      "mean   2023-01-01 04:30:00  2402.800000     4329.300000\n",
      "min    2023-01-01 00:00:00    22.000000     1101.000000\n",
      "25%    2023-01-01 02:15:00    80.000000     2236.500000\n",
      "50%    2023-01-01 04:30:00   443.000000     3677.500000\n",
      "75%    2023-01-01 06:45:00  3389.000000     5798.250000\n",
      "max    2023-01-01 09:00:00  8080.000000     9155.000000\n",
      "std                    NaN  3269.645404     2770.882573\n"
     ]
    },
    {
     "name": "stderr",
     "output_type": "stream",
     "text": [
      "/tmp/ipykernel_6716/185713275.py:7: FutureWarning: 'H' is deprecated and will be removed in a future version, please use 'h' instead.\n",
      "  'timestamp': pd.date_range(start='2023-01-01', periods=10, freq='H'),\n"
     ]
    }
   ],
   "source": [
    "import pandas as pd\n",
    "import numpy as np\n",
    "import matplotlib.pyplot as plt\n",
    "\n",
    "# Creamos un dataset simulando un registro de conexiones de red\n",
    "data = {\n",
    "    'timestamp': pd.date_range(start='2023-01-01', periods=10, freq='H'),\n",
    "    'ip_origen': ['192.168.1.' + str(i) for i in range(1, 11)],\n",
    "    'ip_destino': ['10.0.0.' + str(i % 3 + 1) for i in range(10)],\n",
    "    'puerto': [80, 443, 22, 3389, 8080, 80, 443, 22, 8080, 3389],\n",
    "    'protocolo': ['HTTP', 'HTTPS', 'SSH', 'RDP', 'HTTP', 'HTTP', 'HTTPS', 'SSH', 'HTTP', 'RDP'],\n",
    "    'bytes_enviados': np.random.randint(100, 10000, 10),\n",
    "    'exito_conexion': [True, True, False, True, True, True, False, False, True, True]\n",
    "}\n",
    "\n",
    "# Creamos el DataFrame\n",
    "df = pd.DataFrame(data)\n",
    "\n",
    "print(\"1. Explorando el DataFrame:\")\n",
    "print(df.head())\n",
    "print(\"\\nInformación del DataFrame:\")\n",
    "print(df.info())\n",
    "print(\"\\nEstadísticas descriptivas:\")\n",
    "print(df.describe())"
   ]
  },
  {
   "cell_type": "code",
   "execution_count": 2,
   "metadata": {},
   "outputs": [
    {
     "name": "stdout",
     "output_type": "stream",
     "text": [
      "\n",
      "2. Selección de datos:\n",
      "\n",
      "Selección de una columna (Serie):\n",
      "0     HTTP\n",
      "1    HTTPS\n",
      "2      SSH\n",
      "3      RDP\n",
      "4     HTTP\n",
      "5     HTTP\n",
      "6    HTTPS\n",
      "7      SSH\n",
      "8     HTTP\n",
      "9      RDP\n",
      "Name: protocolo, dtype: object\n",
      "\n",
      "Selección de múltiples columnas (DataFrame):\n",
      "      ip_origen protocolo  puerto\n",
      "0   192.168.1.1      HTTP      80\n",
      "1   192.168.1.2     HTTPS     443\n",
      "2   192.168.1.3       SSH      22\n",
      "3   192.168.1.4       RDP    3389\n",
      "4   192.168.1.5      HTTP    8080\n",
      "5   192.168.1.6      HTTP      80\n",
      "6   192.168.1.7     HTTPS     443\n",
      "7   192.168.1.8       SSH      22\n",
      "8   192.168.1.9      HTTP    8080\n",
      "9  192.168.1.10       RDP    3389\n",
      "\n",
      "Selección por índice con iloc (primeras 2 filas, columnas 0 y 2):\n",
      "            timestamp ip_destino\n",
      "0 2023-01-01 00:00:00   10.0.0.1\n",
      "1 2023-01-01 01:00:00   10.0.0.2\n",
      "\n",
      "Selección por nombre con loc (filas donde protocolo es 'HTTP'):\n",
      "            timestamp    ip_origen  puerto\n",
      "0 2023-01-01 00:00:00  192.168.1.1      80\n",
      "4 2023-01-01 04:00:00  192.168.1.5    8080\n",
      "5 2023-01-01 05:00:00  192.168.1.6      80\n",
      "8 2023-01-01 08:00:00  192.168.1.9    8080\n"
     ]
    }
   ],
   "source": [
    "# 2. Selección de datos\n",
    "print(\"\\n2. Selección de datos:\")\n",
    "# Seleccionar una columna (devuelve una Serie)\n",
    "print(\"\\nSelección de una columna (Serie):\")\n",
    "print(df['protocolo'])\n",
    "\n",
    "# Seleccionar múltiples columnas (devuelve un DataFrame)\n",
    "print(\"\\nSelección de múltiples columnas (DataFrame):\")\n",
    "print(df[['ip_origen', 'protocolo', 'puerto']])\n",
    "\n",
    "# Selección por índice con iloc\n",
    "print(\"\\nSelección por índice con iloc (primeras 2 filas, columnas 0 y 2):\")\n",
    "print(df.iloc[0:2, [0, 2]])\n",
    "\n",
    "# Selección por nombre con loc\n",
    "print(\"\\nSelección por nombre con loc (filas donde protocolo es 'HTTP'):\")\n",
    "print(df.loc[df['protocolo'] == 'HTTP', ['timestamp', 'ip_origen', 'puerto']])"
   ]
  },
  {
   "cell_type": "code",
   "execution_count": 3,
   "metadata": {},
   "outputs": [
    {
     "name": "stdout",
     "output_type": "stream",
     "text": [
      "\n",
      "3. Filtrado de datos:\n",
      "\n",
      "Conexiones exitosas:\n",
      "            timestamp     ip_origen protocolo\n",
      "0 2023-01-01 00:00:00   192.168.1.1      HTTP\n",
      "1 2023-01-01 01:00:00   192.168.1.2     HTTPS\n",
      "3 2023-01-01 03:00:00   192.168.1.4       RDP\n",
      "4 2023-01-01 04:00:00   192.168.1.5      HTTP\n",
      "5 2023-01-01 05:00:00   192.168.1.6      HTTP\n",
      "8 2023-01-01 08:00:00   192.168.1.9      HTTP\n",
      "9 2023-01-01 09:00:00  192.168.1.10       RDP\n",
      "\n",
      "Conexiones HTTP en puerto 80:\n",
      "            timestamp    ip_origen ip_destino  puerto protocolo  \\\n",
      "0 2023-01-01 00:00:00  192.168.1.1   10.0.0.1      80      HTTP   \n",
      "5 2023-01-01 05:00:00  192.168.1.6   10.0.0.3      80      HTTP   \n",
      "\n",
      "   bytes_enviados  exito_conexion  \n",
      "0            1101            True  \n",
      "5            1962            True  \n"
     ]
    }
   ],
   "source": [
    "# 3. Filtrado de datos\n",
    "print(\"\\n3. Filtrado de datos:\")\n",
    "# Filtrar conexiones exitosas\n",
    "conexiones_exitosas = df[df['exito_conexion'] == True]\n",
    "print(\"\\nConexiones exitosas:\")\n",
    "print(conexiones_exitosas[['timestamp', 'ip_origen', 'protocolo']])\n",
    "\n",
    "# Filtrado múltiple (conexiones HTTP en puerto 80)\n",
    "http_port80 = df[(df['protocolo'] == 'HTTP') & (df['puerto'] == 80)]\n",
    "print(\"\\nConexiones HTTP en puerto 80:\")\n",
    "print(http_port80)"
   ]
  },
  {
   "cell_type": "code",
   "execution_count": 4,
   "metadata": {},
   "outputs": [
    {
     "name": "stdout",
     "output_type": "stream",
     "text": [
      "\n",
      "4. Transformación de datos:\n",
      "\n",
      "DataFrame con nueva columna 'hora':\n",
      "            timestamp  hora protocolo\n",
      "0 2023-01-01 00:00:00     0      HTTP\n",
      "1 2023-01-01 01:00:00     1     HTTPS\n",
      "2 2023-01-01 02:00:00     2       SSH\n",
      "3 2023-01-01 03:00:00     3       RDP\n",
      "4 2023-01-01 04:00:00     4      HTTP\n",
      "5 2023-01-01 05:00:00     5      HTTP\n",
      "6 2023-01-01 06:00:00     6     HTTPS\n",
      "7 2023-01-01 07:00:00     7       SSH\n",
      "8 2023-01-01 08:00:00     8      HTTP\n",
      "9 2023-01-01 09:00:00     9       RDP\n",
      "\n",
      "DataFrame con clasificación de servicios:\n",
      "  protocolo tipo_servicio\n",
      "0      HTTP           WEB\n",
      "1     HTTPS           WEB\n",
      "2       SSH         ADMIN\n",
      "3       RDP          OTRO\n",
      "4      HTTP           WEB\n",
      "5      HTTP           WEB\n",
      "6     HTTPS           WEB\n",
      "7       SSH         ADMIN\n",
      "8      HTTP           WEB\n",
      "9       RDP          OTRO\n"
     ]
    }
   ],
   "source": [
    "# 4. Transformación de datos\n",
    "print(\"\\n4. Transformación de datos:\")\n",
    "# Añadir una nueva columna\n",
    "df['hora'] = df['timestamp'].dt.hour\n",
    "print(\"\\nDataFrame con nueva columna 'hora':\")\n",
    "print(df[['timestamp', 'hora', 'protocolo']])\n",
    "\n",
    "# Aplicar una función con apply\n",
    "def clasificar_protocolo(protocolo):\n",
    "    if protocolo in ['HTTP', 'HTTPS']:\n",
    "        return 'WEB'\n",
    "    elif protocolo == 'SSH':\n",
    "        return 'ADMIN'\n",
    "    else:\n",
    "        return 'OTRO'\n",
    "\n",
    "df['tipo_servicio'] = df['protocolo'].apply(clasificar_protocolo)\n",
    "print(\"\\nDataFrame con clasificación de servicios:\")\n",
    "print(df[['protocolo', 'tipo_servicio']])"
   ]
  },
  {
   "cell_type": "code",
   "execution_count": 5,
   "metadata": {},
   "outputs": [
    {
     "name": "stdout",
     "output_type": "stream",
     "text": [
      "\n",
      "5. Agregación de datos:\n",
      "\n",
      "Conteo de conexiones por protocolo:\n",
      "protocolo\n",
      "HTTP     4\n",
      "HTTPS    2\n",
      "RDP      2\n",
      "SSH      2\n",
      "dtype: int64\n",
      "\n",
      "Estadísticas de bytes enviados por protocolo:\n",
      "           count    mean   min   max\n",
      "protocolo                           \n",
      "HTTP           4  2788.5  1101  5031\n",
      "HTTPS          2  3709.5  1365  6054\n",
      "RDP            2  5982.5  3755  8210\n",
      "SSH            2  6377.5  3600  9155\n"
     ]
    }
   ],
   "source": [
    "# 5. Agregación de datos\n",
    "print(\"\\n5. Agregación de datos:\")\n",
    "# Agrupar por protocolo y contar conexiones\n",
    "conteo_por_protocolo = df.groupby('protocolo').size()\n",
    "print(\"\\nConteo de conexiones por protocolo:\")\n",
    "print(conteo_por_protocolo)\n",
    "\n",
    "# Estadísticas por protocolo\n",
    "stats_por_protocolo = df.groupby('protocolo')['bytes_enviados'].agg(['count', 'mean', 'min', 'max'])\n",
    "print(\"\\nEstadísticas de bytes enviados por protocolo:\")\n",
    "print(stats_por_protocolo)"
   ]
  }
 ],
 "metadata": {
  "kernelspec": {
   "display_name": "Python 3",
   "language": "python",
   "name": "python3"
  },
  "language_info": {
   "codemirror_mode": {
    "name": "ipython",
    "version": 3
   },
   "file_extension": ".py",
   "mimetype": "text/x-python",
   "name": "python",
   "nbconvert_exporter": "python",
   "pygments_lexer": "ipython3",
   "version": "3.12.1"
  }
 },
 "nbformat": 4,
 "nbformat_minor": 2
}
